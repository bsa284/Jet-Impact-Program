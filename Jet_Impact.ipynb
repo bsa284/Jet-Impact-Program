{
  "nbformat": 4,
  "nbformat_minor": 0,
  "metadata": {
    "colab": {
      "name": "Jet Impact.ipynb",
      "provenance": []
    },
    "kernelspec": {
      "name": "python3",
      "display_name": "Python 3"
    }
  },
  "cells": [
    {
      "cell_type": "code",
      "metadata": {
        "colab": {
          "base_uri": "https://localhost:8080/"
        },
        "id": "NhntWtEk-Yr7",
        "outputId": "371fbeb1-a8f7-4805-f7b0-37302f10c921"
      },
      "source": [
        "rho = 1000 #kg/m^3; standard density for water\n",
        "deflector = input(\"Enter the deflector type: \")\n",
        "vol = float(input(\"Enter the volume: \"))\n",
        "area = float(input(\"Enter the area: \"))\n",
        "time = float(input(\"Enter the time: \"))\n",
        "\n",
        "flow = (vol/time)\n",
        "vel = (flow/area)\n",
        "print('The flowrate is: {}'.format(flow))\n",
        "print('The velocity is: {}'.format(vel))\n",
        "\n",
        "if deflector == 'flat':\n",
        "  force = rho * flow * vel\n",
        "  print('The reaction force is: {}'.format(force))\n",
        "\n",
        "elif deflector == 'semi-circular':\n",
        "  force = 2 * rho * flow * vel\n",
        "  print('The reaction force is: {}'.format(force))\n",
        "\n",
        "elif deflector == 'oblique':\n",
        "  force = 0.5 * rho * flow * vel\n",
        "  print('The reaction force is: {}'.format(force))\n",
        "\n",
        "elif deflector == 'conical':\n",
        "  force = 1.707 * rho * flow * vel\n",
        "  print('The reaction force is: {}'.format(force))\n"
      ],
      "execution_count": 29,
      "outputs": [
        {
          "output_type": "stream",
          "text": [
            "Enter the deflector type: flat\n",
            "Enter the volume: 0.01\n",
            "Enter the area: 7.854e-5\n",
            "Enter the time: 47\n",
            "The flowrate is: 0.0002127659574468085\n",
            "The velocity is: 2.709013973094073\n",
            "The reaction force is: 0.5763859517221432\n",
            "[0.5763859517221432]\n"
          ],
          "name": "stdout"
        }
      ]
    }
  ]
}